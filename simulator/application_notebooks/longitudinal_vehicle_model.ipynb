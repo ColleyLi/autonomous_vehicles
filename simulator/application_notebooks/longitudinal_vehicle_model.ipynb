{
 "cells": [
  {
   "cell_type": "markdown",
   "metadata": {
    "collapsed": true
   },
   "source": [
    "# Application: Longitudinal Vehicle Model"
   ]
  },
  {
   "cell_type": "markdown",
   "metadata": {},
   "source": [
    "#### References"
   ]
  },
  {
   "cell_type": "markdown",
   "metadata": {},
   "source": [
    "---\n",
    "\n",
    "**Remark**\n",
    "\n",
    "This notebook has been inspired from Coursera's course Introduction to Self-Driving Cars \n",
    "\n",
    "---"
   ]
  },
  {
   "cell_type": "markdown",
   "metadata": {},
   "source": [
    "In this notebook, we will implement the forward longitudinal vehicle model. The model accepts throttle inputs and steps through the longitudinal dynamic equations. Once implemented, you will be given a set of inputs that drives over a small road slope to test your model.\n",
    "\n",
    "The input to the model is a throttle percentage $x_\\theta \\in [0,1]$ which provides torque to the engine and subsequently accelerates the vehicle for forward motion. \n",
    "\n",
    "The dynamic equations consist of many stages to convert throttle inputs to wheel speed (engine -> torque converter -> transmission -> wheel). These stages are bundled together in a single inertia term $J_e$ which is used in the following combined engine dynamic equations.\n"
   ]
  },
  {
   "cell_type": "markdown",
   "metadata": {},
   "source": [
    "\\begin{align}\n",
    "    J_e \\dot{\\omega}_e &= T_e - (GR)(r_{eff} F_{load}) \\\\ m\\ddot{x} &= F_x - F_{load}\n",
    "\\end{align}"
   ]
  },
  {
   "cell_type": "markdown",
   "metadata": {},
   "source": [
    "Where $T_e$ is the engine torque, $GR$ is the gear ratio, $r_{eff}$ is the effective radius, $m$ is the vehicle mass, $x$ is the vehicle position, $F_x$ is the tire force, and $F_{load}$ is the total load force. \n",
    "\n",
    "The engine torque is computed from the throttle input and the engine angular velocity $\\omega_e$ using a simplified quadratic model. "
   ]
  },
  {
   "cell_type": "markdown",
   "metadata": {},
   "source": [
    "\\begin{align}\n",
    "    T_e = x_{\\theta}(a_0 + a_1 \\omega_e + a_2 \\omega_e^2)\n",
    "\\end{align}"
   ]
  },
  {
   "cell_type": "markdown",
   "metadata": {},
   "source": [
    "The load forces consist of aerodynamic drag $F_{aero}$, rolling friction $R_x$, and gravitational force $F_g$ from an incline at angle $\\alpha$. The aerodynamic drag is a quadratic model and the friction is a linear model."
   ]
  },
  {
   "cell_type": "markdown",
   "metadata": {},
   "source": [
    "\n",
    "\\begin{align}\n",
    "    F_{load} &= F_{aero} + R_x + F_g \\\\\n",
    "    F_{aero} &= \\frac{1}{2} C_a \\rho A \\dot{x}^2 = c_a \\dot{x}^2\\\\\n",
    "    R_x &= N(\\hat{c}_{r,0} + \\hat{c}_{r,1}|\\dot{x}| + \\hat{c}_{r,2}\\dot{x}^2) \\approx c_{r,1} \\dot{x}\\\\\n",
    "    F_g &= mg\\sin{\\alpha}\n",
    "\\end{align}\n"
   ]
  },
  {
   "cell_type": "markdown",
   "metadata": {},
   "source": [
    "Note that the absolute value is ignored for friction since the model is used for only forward motion ($\\dot{x} \\ge 0$).  The tire force is computed using the engine speed and wheel slip equations."
   ]
  },
  {
   "cell_type": "markdown",
   "metadata": {},
   "source": [
    "\\begin{align}\n",
    "    \\omega_w &= (GR)\\omega_e \\\\\n",
    "    s &= \\frac{\\omega_w r_e - \\dot{x}}{\\dot{x}}\\\\\n",
    "    F_x &= \\left\\{\\begin{array}{lr}\n",
    "        cs, &  |s| < 1\\\\\n",
    "        F_{max}, & \\text{otherwise}\n",
    "        \\end{array}\\right\\} \n",
    "\\end{align}"
   ]
  },
  {
   "cell_type": "markdown",
   "metadata": {},
   "source": [
    "Where $\\omega_w$ is the wheel angular velocity and $s$ is the slip ratio. \n",
    "\n",
    "We setup the longitudinal model inside a Python class below. The vehicle begins with an initial velocity of 5 m/s and engine speed of 100 rad/s. All the relevant parameters are defined and like the bicycle model, a sampling time of 10ms is used for numerical integration."
   ]
  },
  {
   "cell_type": "markdown",
   "metadata": {},
   "source": [
    "Using the model, you can send constant throttle inputs to the vehicle in the cell below. You will observe that the velocity converges to a fixed value based on the throttle input due to the aerodynamic drag and tire force limit. A similar velocity profile can be seen by setting a negative incline angle αα. In this case, gravity accelerates the vehicle to a terminal velocity where it is balanced by the drag force.\n"
   ]
  },
  {
   "cell_type": "markdown",
   "metadata": {},
   "source": [
    "We will now drive the vehicle over a slope as shown in the diagram below.\n",
    "\n",
    "\n",
    "\n"
   ]
  },
  {
   "cell_type": "markdown",
   "metadata": {},
   "source": [
    "![ramp](img/ramp.png)"
   ]
  },
  {
   "cell_type": "markdown",
   "metadata": {},
   "source": [
    "To climb the slope, a trapezoidal throttle input is provided for the next 20 seconds as shown in the figure below. \n",
    "\n",
    "\n",
    "\n"
   ]
  },
  {
   "cell_type": "markdown",
   "metadata": {},
   "source": [
    "![throttle](img/throttle.png)"
   ]
  },
  {
   "cell_type": "markdown",
   "metadata": {},
   "source": [
    "The vehicle begins at 20% throttle and gradually increases to 50% throttle. This is maintained for 10 seconds as the vehicle climbs the steeper slope. Afterwards, the vehicle reduces the throttle to 0."
   ]
  },
  {
   "cell_type": "code",
   "execution_count": 54,
   "metadata": {},
   "outputs": [],
   "source": [
    "# Need these so that Jupyter can find the simulator types\n",
    "import os\n",
    "import sys\n",
    "nb_dir = os.path.split(os.getcwd())[0]\n",
    "if nb_dir not in sys.path:\n",
    "    sys.path.append(nb_dir)"
   ]
  },
  {
   "cell_type": "code",
   "execution_count": 55,
   "metadata": {},
   "outputs": [],
   "source": [
    "import math\n",
    "import numpy as np\n",
    "import matplotlib.pyplot as plt\n",
    "import matplotlib.image as mpimg\n",
    "\n",
    "from vehicle.vehicle_base import VehicleBase\n",
    "from dynamics.dynamics_base import DynamicsBase\n",
    "from systems.system_state import SysState\n",
    "from ode_integrators.forward_euler import ODEScalarFWDEuler\n",
    "from physics.physics import Physics\n",
    "from plot.two_d_plotter import TwoDPlotter"
   ]
  },
  {
   "cell_type": "code",
   "execution_count": 56,
   "metadata": {},
   "outputs": [],
   "source": [
    "class EngineDynamics(DynamicsBase):\n",
    "\n",
    "    def __init__(self, properties, sample_time, init_condition):\n",
    "        DynamicsBase.__init__(self)\n",
    "        self.__properties = properties\n",
    "        self.set_integrator(\"w_e\", integrator=ODEScalarFWDEuler(step_size=sample_time, init_condition=init_condition))\n",
    "        self.__state = 0.0\n",
    "\n",
    "    def __compute_t_e(self, **kwargs):\n",
    "        # get the previous velocity\n",
    "        w_e_old = self.get_old_state(\"w_e\", 0)\n",
    "        throttle = kwargs['throttle']\n",
    "        return throttle * (self.__properties['a_0'] + self.__properties['a_1'] * w_e_old + self.__properties['a_2'] * w_e_old ** 2)\n",
    "\n",
    "    def __compute_rhs(self, **kwargs):\n",
    "        T_e = self.__compute_t_e(**kwargs)\n",
    "        GR = kwargs['GR']\n",
    "        r_eff = kwargs['r_e']\n",
    "        F_load = kwargs['F_load']\n",
    "        return (T_e - GR * r_eff * F_load) / self.__properties['J_e']\n",
    "\n",
    "    @property\n",
    "    def state(self):\n",
    "        return self.__state\n",
    "\n",
    "    @state.setter\n",
    "    def state(self, value):\n",
    "        self.__state = value\n",
    "\n",
    "    def execute(self, **kwargs):\n",
    "        \"\"\"\n",
    "        performs one time-step of the enigne dynamics equation\n",
    "        \"\"\"\n",
    "        kwargs['f'] = self.__compute_rhs\n",
    "        self.__state = self.get_integrator(\"w_e\").execute(**kwargs)\n",
    "\n",
    "        "
   ]
  },
  {
   "cell_type": "code",
   "execution_count": 57,
   "metadata": {},
   "outputs": [],
   "source": [
    "class VehicleDynamics(DynamicsBase):\n",
    "\n",
    "    def __init__(self, sample_time, init_condition):\n",
    "        DynamicsBase.__init__(self)\n",
    "        self.__state = SysState(n_entries=3)\n",
    "        self.__state.add_state(\"x\", 0)\n",
    "        self.__state.add_state(\"v\", 1)\n",
    "        self.__state.add_state(\"w_e\", 2)\n",
    "\n",
    "        # integrator for the velocity\n",
    "        self.set_integrator(\"velocity\",\n",
    "                            integrator=ODEScalarFWDEuler(init_condition=init_condition, step_size=sample_time))\n",
    "\n",
    "    @property\n",
    "    def state(self):\n",
    "        return self.__state\n",
    "\n",
    "    @state.setter\n",
    "    def state(self, value):\n",
    "        self.__state = value\n",
    "\n",
    "    def execute(self, **kwargs):\n",
    "        \"\"\"\n",
    "        performs one time-step of the velocity dynamics equation\n",
    "        \"\"\"\n",
    "        v_new = self.get_integrator(\"velocity\").execute(**kwargs)\n",
    "        self.__state.set_state_value_by_name(name=\"v\", value=v_new)\n",
    "\n",
    "        x = self.__state.get_state_value_by_name('x')\n",
    "        x += v_new*self.get_integrator(\"velocity\").step_size\n",
    "        self.__state.set_state_value_by_name(name='x', value=x)\n",
    "        \n",
    "        "
   ]
  },
  {
   "cell_type": "code",
   "execution_count": 58,
   "metadata": {},
   "outputs": [],
   "source": [
    "class Vehicle(VehicleBase):\n",
    "\n",
    "    def __init__(self, properties, sample_time, init_condition):\n",
    "        VehicleBase.__init__(self, properties)\n",
    "        self.__dynamics = VehicleDynamics(sample_time=sample_time, init_condition=init_condition)\n",
    "\n",
    "    @property\n",
    "    def state(self):\n",
    "        return self.__dynamics.state\n",
    "\n",
    "    @state.setter\n",
    "    def state(self, value):\n",
    "        self.__dynamics.state = value\n",
    "\n",
    "    def get_old_state(self, name, idx):\n",
    "        return self.__dynamics.get_old_state(name=name, idx=idx)\n",
    "\n",
    "    def set_old_state(self, name, idx, value):\n",
    "        self.__dynamics.set_old_state(name=name, idx=idx, value=value)\n",
    "\n",
    "    def __get_f_load(self, **kwargs):\n",
    "\n",
    "        v = self.get_old_state(name=\"velocity\", idx=0)\n",
    "        F_aero = self.get_property(\"c_a\") * v ** 2\n",
    "        R_x = self.get_property(\"c_r1\") * v\n",
    "        F_g = self.get_property(\"m\") * Physics.gravity_constant() * math.sin(kwargs['alpha'])\n",
    "        return F_aero + R_x + F_g\n",
    "\n",
    "    def __get_f_x(self, **kwargs):\n",
    "        w_e = self.get_property(\"propulsion\").get_old_state(name='w_e', idx=0)\n",
    "        w_w = self.get_property(\"GR\") * w_e\n",
    "        v = self.get_old_state(name=\"velocity\", idx=0)\n",
    "        s = (w_w * self.get_property(\"r_e\") - v) / v\n",
    "\n",
    "        if math.fabs(s) < 1:\n",
    "            return self.get_property(\"c\") * s\n",
    "\n",
    "        return self.get_property(\"F_max\")\n",
    "\n",
    "    def __compute_rhs(self, **kwargs):\n",
    "        return (self.__get_f_x(**kwargs) - self.__get_f_load(**kwargs))/self.get_property('m')\n",
    "\n",
    "    def execute(self, **kwargs):\n",
    "        F_load = self.__get_f_load(**kwargs)\n",
    "        kwargs['F_load'] = F_load\n",
    "        kwargs['GR'] = self.get_property(\"GR\")\n",
    "        kwargs['r_e'] = self.get_property(\"r_e\")\n",
    "        self.get_property(\"propulsion\").execute(**kwargs)\n",
    "        kwargs['f'] = self.__compute_rhs\n",
    "        self.__dynamics.execute(**kwargs)\n",
    "    "
   ]
  },
  {
   "cell_type": "code",
   "execution_count": 59,
   "metadata": {},
   "outputs": [],
   "source": [
    "def constant_throttle():\n",
    "\n",
    "    ### SIMULATION DRIVER\n",
    "\n",
    "    sample_time = 0.01\n",
    "    time_end = 100\n",
    "\n",
    "    t_data = np.arange(0, time_end, sample_time)\n",
    "    v_data = np.zeros_like(t_data)\n",
    "\n",
    "    engine_properties = {\"a_0\": 400,\n",
    "                         \"a_1\": 0.1,\n",
    "                         \"a_2\": -0.0002,\n",
    "                         \"J_e\": 10}\n",
    "\n",
    "    init_engine_speed = 100.0  # rad/s\n",
    "    propulsion = EngineDynamics(properties=engine_properties,\n",
    "                                sample_time=sample_time,\n",
    "                                init_condition=init_engine_speed)\n",
    "\n",
    "    # Gear ratio, effective radius, mass + inertia\n",
    "    vehicle_properties = {\"GR\": 0.35,\n",
    "                          \"r_e\": 0.3,\n",
    "                          \"J_e\": 10,\n",
    "                          \"m\": 2000,\n",
    "                          \"c_a\": 1.36,\n",
    "                          \"c_r1\": 0.01,\n",
    "                          \"c\": 10000,\n",
    "                          \"F_max\": 10000,\n",
    "                          \"propulsion\": propulsion}\n",
    "\n",
    "    init_velocity = 5.0  # m/s\n",
    "    model = Vehicle(properties=vehicle_properties,\n",
    "                    sample_time=sample_time,\n",
    "                    init_condition=init_velocity)\n",
    "\n",
    "    # throttle percentage between 0 and 1\n",
    "    throttle = 0.2\n",
    "\n",
    "    # incline angle (in radians)\n",
    "    alpha = 0\n",
    "\n",
    "    kwargs = {\"throttle\": throttle, \"alpha\": alpha}\n",
    "\n",
    "    # the simulation time\n",
    "    time = 0.0\n",
    "    for i in range(t_data.shape[0]):\n",
    "        print(\"At time: %f\" % time)\n",
    "\n",
    "        model.execute(**kwargs)\n",
    "        v_data[i] = model.state.get_state_value_by_name(\"v\")\n",
    "        print(\"Vehicle velcoity %f\" % model.state.get_state_value_by_name(\"v\"))\n",
    "\n",
    "        time += sample_time\n",
    "\n",
    "    plotter = TwoDPlotter(xlabel=\"Time in secs\", ylabel=\"Velocity\")\n",
    "    plotter.plot(x=t_data, y=v_data)\n",
    "    plotter.show_plots(show_grid=True)\n"
   ]
  },
  {
   "cell_type": "code",
   "execution_count": 60,
   "metadata": {},
   "outputs": [],
   "source": [
    "def calculate_alpha(x):\n",
    "\n",
    "    if x < 60.0:\n",
    "        return math.atan(3.0/60.0)\n",
    "\n",
    "    if x >= 60.0 and x <= 150.0:\n",
    "        return math.atan(12.0/90.0)\n",
    "\n",
    "    return 0.0\n",
    "\n",
    "\n",
    "def calculate_throttle(time):\n",
    "\n",
    "    if time <= 5.0:\n",
    "\n",
    "        beta = 0.2\n",
    "        alpha = 0.3/5.0\n",
    "        return alpha*time + beta\n",
    "\n",
    "    if time <= 15.0:\n",
    "        return 0.5\n",
    "\n",
    "    return 0.0\n",
    "\n",
    "def variable_throttle():\n",
    "\n",
    "        sample_time = 0.01\n",
    "        time_end = 100\n",
    "\n",
    "        t_data = np.arange(0, time_end, sample_time)\n",
    "        v_data = np.zeros_like(t_data)\n",
    "        throttle_data = np.zeros_like(t_data)\n",
    "        alpha_data = np.zeros_like(t_data)\n",
    "\n",
    "        engine_properties = {\"a_0\": 400,\n",
    "                             \"a_1\": 0.1,\n",
    "                             \"a_2\": -0.0002,\n",
    "                             \"J_e\": 10}\n",
    "\n",
    "        init_engine_speed = 100.0  # rad/s\n",
    "        propulsion = EngineDynamics(properties=engine_properties,\n",
    "                                    sample_time=sample_time,\n",
    "                                    init_condition=init_engine_speed)\n",
    "\n",
    "        # Gear ratio, effective radius, mass + inertia\n",
    "        vehicle_properties = {\"GR\": 0.35,\n",
    "                              \"r_e\": 0.3,\n",
    "                              \"J_e\": 10,\n",
    "                              \"m\": 2000,\n",
    "                              \"c_a\": 1.36,\n",
    "                              \"c_r1\": 0.01,\n",
    "                              \"c\": 10000,\n",
    "                              \"F_max\": 10000,\n",
    "                              \"propulsion\": propulsion}\n",
    "\n",
    "        init_velocity = 5.0  # m/s\n",
    "        model = Vehicle(properties=vehicle_properties,\n",
    "                        sample_time=sample_time,\n",
    "                        init_condition=init_velocity)\n",
    "\n",
    "        kwargs = dict()\n",
    "\n",
    "        # the simulation time\n",
    "        time = 0.0\n",
    "        for i in range(t_data.shape[0]):\n",
    "            print(\"At time: %f\" % time)\n",
    "\n",
    "            pos = model.state.get_state_value_by_name(\"x\")\n",
    "\n",
    "            # incline angle (in radians)\n",
    "            alpha = calculate_alpha(pos)\n",
    "            alpha_data[i] = alpha\n",
    "\n",
    "            # throttle percentage between 0 and 1\n",
    "            throttle = calculate_throttle(time)\n",
    "            throttle_data[i] = throttle\n",
    "\n",
    "            print(\"\\talpha %f throttle %f\"%(alpha, throttle))\n",
    "\n",
    "            kwargs['alpha'] = alpha\n",
    "            kwargs[\"throttle\"] = throttle\n",
    "\n",
    "            model.execute(**kwargs)\n",
    "            v_data[i] = model.state.get_state_value_by_name(\"v\")\n",
    "            print(\"Vehicle velcoity %f\" % model.state.get_state_value_by_name(\"v\"))\n",
    "\n",
    "            time += sample_time\n",
    "\n",
    "\n",
    "        plotter = TwoDPlotter(xlabel=\"Time in secs\", ylabel=\"Throttle/alpha\")\n",
    "        plotter.plot(x=t_data, y=throttle_data, label=\"Throttle\")\n",
    "        plotter.plot(x=t_data, y=alpha_data, label=\"alpha\")\n",
    "        #plotter.plot(x=t_data, y=v_data)\n",
    "        plotter.show_plots(show_legend=True, show_grid=True)"
   ]
  },
  {
   "cell_type": "code",
   "execution_count": 1,
   "metadata": {},
   "outputs": [],
   "source": [
    "# uncomment this to simulate constant throttle vehicle\n",
    "# constant_throttle()\n"
   ]
  },
  {
   "cell_type": "code",
   "execution_count": 2,
   "metadata": {},
   "outputs": [],
   "source": [
    "# uncomment this to simulate variable throttle vehicle\n",
    "# variable_throttle()"
   ]
  },
  {
   "cell_type": "markdown",
   "metadata": {},
   "source": [
    "If you have implemented the vehicle model and inputs correctly, you should see that the vehicle crosses the ramp at ~15s where the throttle input begins to decrease."
   ]
  },
  {
   "cell_type": "code",
   "execution_count": null,
   "metadata": {},
   "outputs": [],
   "source": []
  }
 ],
 "metadata": {
  "kernelspec": {
   "display_name": "Python 3",
   "language": "python",
   "name": "python3"
  },
  "language_info": {
   "codemirror_mode": {
    "name": "ipython",
    "version": 3
   },
   "file_extension": ".py",
   "mimetype": "text/x-python",
   "name": "python",
   "nbconvert_exporter": "python",
   "pygments_lexer": "ipython3",
   "version": "3.6.7"
  }
 },
 "nbformat": 4,
 "nbformat_minor": 1
}
