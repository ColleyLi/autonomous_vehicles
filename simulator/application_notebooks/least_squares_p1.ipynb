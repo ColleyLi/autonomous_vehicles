{
 "cells": [
  {
   "cell_type": "markdown",
   "metadata": {},
   "source": [
    "## Introduction\n",
    "-----\n",
    "You (an electrical engineer) wish to determine the resistance of an electrical component by using Ohm's law. You remember from your high school circuit classes that $$V = RI$$ where $V$ is the voltage in volts, $R$ is resistance in ohms, and $I$ is electrical current in amperes. Using a multimeter, you collect the following data:\n",
    "\n",
    "| Current (A) | Voltage (V) |\n",
    "|-------------|-------------|\n",
    "| 0.2         | 1.23        |\n",
    "| 0.3         | 1.38        |\n",
    "| 0.4         | 2.06        |\n",
    "| 0.5         | 2.47        |\n",
    "| 0.6         | 3.17        |\n",
    "\n",
    "Your goal is to \n",
    "1. Fit a line through the origin (i.e., determine the parameter $R$ for $y = Rx$) to this data by using the method of least squares. You may assume that all measurements are of equal importance. \n",
    "2. Consider what the best estimate of the resistance is, in ohms, for this component.\n",
    "\n",
    "## Getting Started\n",
    "----\n",
    "\n",
    "First we will import the neccesary Python modules and load the current and voltage measurements into numpy arrays:"
   ]
  },
  {
   "cell_type": "code",
   "execution_count": 2,
   "metadata": {},
   "outputs": [],
   "source": [
    "import numpy as np\n",
    "from numpy.linalg import inv\n",
    "import matplotlib.pyplot as plt\n",
    "\n",
    "# Store the voltage and current data as column vectors.\n",
    "I = np.mat([0.2, 0.3, 0.4, 0.5, 0.6]).T\n",
    "V = np.mat([1.23, 1.38, 2.06, 2.47, 3.17]).T"
   ]
  },
  {
   "cell_type": "markdown",
   "metadata": {},
   "source": [
    "Now we can plot the measurements - can you see the linear relationship between current and voltage?"
   ]
  },
  {
   "cell_type": "code",
   "execution_count": 3,
   "metadata": {},
   "outputs": [
    {
     "data": {
      "image/png": "[encoded data removed]",
      "text/plain": [
       "<Figure size 432x288 with 1 Axes>"
      ]
     },
     "metadata": {},
     "output_type": "display_data"
    }
   ],
   "source": [
    "plt.scatter(np.asarray(I), np.asarray(V))\n",
    "\n",
    "plt.xlabel('Current (A)')\n",
    "plt.ylabel('Voltage (V)')\n",
    "plt.grid(True)\n",
    "plt.show()"
   ]
  },
  {
   "cell_type": "code",
   "execution_count": null,
   "metadata": {},
   "outputs": [],
   "source": []
  },
  {
   "cell_type": "markdown",
   "metadata": {},
   "source": [
    "## Estimating the Slope Parameter\n",
    "----\n",
    "Let's try to estimate the slope parameter $R$ (i.e., the resistance) using the least squares formulation from Module 1, Lesson 1 - \"The Squared Error Criterion and the Method of Least Squares\":\n",
    "\n",
    "\\begin{align}\n",
    "\\hat{R} = \\left(\\mathbf{H}^T\\mathbf{H}\\right)^{-1}\\mathbf{H}^T\\mathbf{y}\n",
    "\\end{align}\n",
    "\n",
    "If we know that we're looking for the slope parameter $R$, how do we define the matrix $\\mathbf{H}$ and vector $\\mathbf{y}$?"
   ]
  },
  {
   "cell_type": "code",
   "execution_count": 42,
   "metadata": {},
   "outputs": [
    {
     "name": "stdout",
     "output_type": "stream",
     "text": [
      "[[ 1.]\n",
      " [ 1.]\n",
      " [ 1.]\n",
      " [ 1.]\n",
      " [ 1.]]\n",
      "[[ 5.]]\n",
      "[[ 0.2]]\n",
      "The slope parameter (i.e., resistance) for the best-fit line is:\n",
      "[[ 2.062]]\n",
      "The mean is:  2.062\n"
     ]
    }
   ],
   "source": [
    "# Define the H matrix, what does it contain?\n",
    "# H = ...\n",
    "H = np.mat([1.0, 1.0, 1.0, 1.0, 1.0]).T\n",
    "y = V\n",
    "\n",
    "print(H)\n",
    "\n",
    "# Now estimate the resistance parameter.\n",
    "# R = ... \n",
    "\n",
    "H_T_H = np.dot(H.T, H)\n",
    "print(H_T_H)\n",
    "inv_H_T_H = inv(H_T_H)\n",
    "print(inv_H_T_H)\n",
    "R = (inv_H_T_H*H.T)*y\n",
    "#R = 2.062\n",
    "\n",
    "print('The slope parameter (i.e., resistance) for the best-fit line is:')\n",
    "print(R)\n",
    "\n",
    "print(\"The mean is: \", np.sum(y)/len(y))\n"
   ]
  },
  {
   "cell_type": "markdown",
   "metadata": {},
   "source": [
    "## Plotting the Results\n",
    "----\n",
    "Now let's plot our result. How do we relate our linear parameter fit to the resistance value in ohms?"
   ]
  },
  {
   "cell_type": "code",
   "execution_count": 40,
   "metadata": {
    "scrolled": false
   },
   "outputs": [
    {
     "name": "stdout",
     "output_type": "stream",
     "text": [
      "<class 'numpy.ndarray'>\n",
      "[ 0.   0.1  0.2  0.3  0.4  0.5  0.6  0.7]\n",
      "<class 'numpy.ndarray'>\n",
      "[[ 0.      0.2062  0.4124  0.6186  0.8248  1.031   1.2372  1.4434]]\n"
     ]
    },
    {
     "data": {
      "image/png": "[encoded data removed]",
      "text/plain": [
       "<Figure size 432x288 with 1 Axes>"
      ]
     },
     "metadata": {},
     "output_type": "display_data"
    }
   ],
   "source": [
    "I_line = np.arange(0, 0.8, 0.1)\n",
    "\n",
    "print(type(I_line))\n",
    "\n",
    "print(I_line)\n",
    "\n",
    "V_line = (R*I_line).A\n",
    "\n",
    "print(type(V_line))\n",
    "print(V_line)\n",
    "\n",
    "plt.scatter(np.asarray(I), np.asarray(V))\n",
    "plt.plot(I_line, V_line[0])\n",
    "plt.xlabel('current (A)')\n",
    "plt.ylabel('voltage (V)')\n",
    "plt.grid(True)\n",
    "plt.show()"
   ]
  },
  {
   "cell_type": "markdown",
   "metadata": {},
   "source": [
    "If you have implemented the estimation steps correctly, the slope parameter $\\hat{R}$ should be close to the actual resistance value of $R = 5~\\Omega$. However, the estimated value will not match the true resistance value exactly, since we have only a limited number of noisy measurements."
   ]
  }
 ],
 "metadata": {
  "kernelspec": {
   "display_name": "Python 3",
   "language": "python",
   "name": "python3"
  },
  "language_info": {
   "codemirror_mode": {
    "name": "ipython",
    "version": 3
   },
   "file_extension": ".py",
   "mimetype": "text/x-python",
   "name": "python",
   "nbconvert_exporter": "python",
   "pygments_lexer": "ipython3",
   "version": "3.6.7"
  }
 },
 "nbformat": 4,
 "nbformat_minor": 2
}
