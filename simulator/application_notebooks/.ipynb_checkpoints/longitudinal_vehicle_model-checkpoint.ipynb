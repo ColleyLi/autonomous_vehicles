{
 "cells": [
  {
   "cell_type": "markdown",
   "metadata": {
    "collapsed": true
   },
   "source": [
    "# Application: Longitudinal Vehicle Model"
   ]
  },
  {
   "cell_type": "markdown",
   "metadata": {},
   "source": [
    "#### References"
   ]
  },
  {
   "cell_type": "markdown",
   "metadata": {},
   "source": [
    "---\n",
    "\n",
    "**Remark**\n",
    "\n",
    "This notebook has been inspired from Coursera's course Introduction to Self-Driving Cars \n",
    "\n",
    "---"
   ]
  },
  {
   "cell_type": "markdown",
   "metadata": {},
   "source": [
    "In this notebook, we will implement the forward longitudinal vehicle model. The model accepts throttle inputs and steps through the longitudinal dynamic equations. Once implemented, you will be given a set of inputs that drives over a small road slope to test your model.\n",
    "\n",
    "The input to the model is a throttle percentage $x_\\theta \\in [0,1]$ which provides torque to the engine and subsequently accelerates the vehicle for forward motion. \n",
    "\n",
    "The dynamic equations consist of many stages to convert throttle inputs to wheel speed (engine -> torque converter -> transmission -> wheel). These stages are bundled together in a single inertia term $J_e$ which is used in the following combined engine dynamic equations.\n"
   ]
  },
  {
   "cell_type": "markdown",
   "metadata": {},
   "source": [
    "\\begin{align}\n",
    "    J_e \\dot{\\omega}_e &= T_e - (GR)(r_{eff} F_{load}) \\\\ m\\ddot{x} &= F_x - F_{load}\n",
    "\\end{align}"
   ]
  },
  {
   "cell_type": "markdown",
   "metadata": {},
   "source": [
    "Where $T_e$ is the engine torque, $GR$ is the gear ratio, $r_{eff}$ is the effective radius, $m$ is the vehicle mass, $x$ is the vehicle position, $F_x$ is the tire force, and $F_{load}$ is the total load force. \n",
    "\n",
    "The engine torque is computed from the throttle input and the engine angular velocity $\\omega_e$ using a simplified quadratic model. "
   ]
  },
  {
   "cell_type": "markdown",
   "metadata": {},
   "source": [
    "\\begin{align}\n",
    "    T_e = x_{\\theta}(a_0 + a_1 \\omega_e + a_2 \\omega_e^2)\n",
    "\\end{align}"
   ]
  },
  {
   "cell_type": "markdown",
   "metadata": {},
   "source": [
    "The load forces consist of aerodynamic drag $F_{aero}$, rolling friction $R_x$, and gravitational force $F_g$ from an incline at angle $\\alpha$. The aerodynamic drag is a quadratic model and the friction is a linear model."
   ]
  },
  {
   "cell_type": "markdown",
   "metadata": {},
   "source": [
    "\n",
    "\\begin{align}\n",
    "    F_{load} &= F_{aero} + R_x + F_g \\\\\n",
    "    F_{aero} &= \\frac{1}{2} C_a \\rho A \\dot{x}^2 = c_a \\dot{x}^2\\\\\n",
    "    R_x &= N(\\hat{c}_{r,0} + \\hat{c}_{r,1}|\\dot{x}| + \\hat{c}_{r,2}\\dot{x}^2) \\approx c_{r,1} \\dot{x}\\\\\n",
    "    F_g &= mg\\sin{\\alpha}\n",
    "\\end{align}\n"
   ]
  },
  {
   "cell_type": "markdown",
   "metadata": {},
   "source": [
    "Note that the absolute value is ignored for friction since the model is used for only forward motion ($\\dot{x} \\ge 0$).  The tire force is computed using the engine speed and wheel slip equations."
   ]
  },
  {
   "cell_type": "markdown",
   "metadata": {},
   "source": [
    "\\begin{align}\n",
    "    \\omega_w &= (GR)\\omega_e \\\\\n",
    "    s &= \\frac{\\omega_w r_e - \\dot{x}}{\\dot{x}}\\\\\n",
    "    F_x &= \\left\\{\\begin{array}{lr}\n",
    "        cs, &  |s| < 1\\\\\n",
    "        F_{max}, & \\text{otherwise}\n",
    "        \\end{array}\\right\\} \n",
    "\\end{align}"
   ]
  },
  {
   "cell_type": "markdown",
   "metadata": {},
   "source": [
    "Where $\\omega_w$ is the wheel angular velocity and $s$ is the slip ratio. \n",
    "\n",
    "We setup the longitudinal model inside a Python class below. The vehicle begins with an initial velocity of 5 m/s and engine speed of 100 rad/s. All the relevant parameters are defined and like the bicycle model, a sampling time of 10ms is used for numerical integration."
   ]
  },
  {
   "cell_type": "code",
   "execution_count": 27,
   "metadata": {},
   "outputs": [],
   "source": [
    "# Need these so that Jupyter can find the simulator types\n",
    "import os\n",
    "import sys\n",
    "nb_dir = os.path.split(os.getcwd())[0]\n",
    "if nb_dir not in sys.path:\n",
    "    sys.path.append(nb_dir)"
   ]
  },
  {
   "cell_type": "code",
   "execution_count": 28,
   "metadata": {},
   "outputs": [],
   "source": [
    "import math\n",
    "import numpy as np\n",
    "import matplotlib.pyplot as plt\n",
    "import matplotlib.image as mpimg\n",
    "\n",
    "from vehicle.vehicle_base import VehicleBase\n",
    "from dynamics.dynamics_base import DynamicsBase\n",
    "from systems.system_state import SysState\n",
    "from ode_integrators.forward_euler import ODEScalarFWDEuler\n",
    "from physics.physics import Physics"
   ]
  },
  {
   "cell_type": "code",
   "execution_count": 34,
   "metadata": {},
   "outputs": [],
   "source": [
    "class EngineDynamics(DynamicsBase):\n",
    "    \n",
    "    def __init__(self, properties, sample_time, init_condition):\n",
    "        DynamicsBase.__init__(self)\n",
    "        self.__properties = properties\n",
    "        self.set_integrator(\"w_e\", integrator=ODEScalarFWDEuler(step_size=sample_time, init_condition=init_condition))\n",
    "        self.__state = 0.0\n",
    "        \n",
    "    def __compute_t_e(self):\n",
    "        # get the previous velocity\n",
    "        w_e_old = self.get_old_state(\"w_e\", 0)\n",
    "        x_theta = self.__properties ['x_theta']\n",
    "        return x_theta*(self.__properties['a_0'] + self.__properties['a_1']*w_e_old + self.__properties['a_2']*w_e_old**2)\n",
    "       \n",
    "    def __compute_rhs(self, **kwargs):\n",
    "        \n",
    "        T_e = self.__compute_t_e()\n",
    "        GR = kwargs['GR']\n",
    "        r_eff = kwargs['r_e']\n",
    "        F_load = kwargs['F_load']\n",
    "        return (T_e - GR*r_eff*F_load)/self.__properties['J_e']\n",
    "    \n",
    "    @property\n",
    "    def state(self):\n",
    "        return self.__state\n",
    "\n",
    "    @state.setter\n",
    "    def state(self, value):\n",
    "        self.__state = value\n",
    "        \n",
    "    def execute(self, **kwargs):\n",
    "        \"\"\"\n",
    "        performs one time-step of the enigne dynamics equation\n",
    "        \"\"\"\n",
    "        kwargs['f'] = self.__compute_rhs\n",
    "        self.__state = self.get_integrator(\"w_e\").execute(**kwargs)\n",
    "       \n",
    "        "
   ]
  },
  {
   "cell_type": "code",
   "execution_count": 35,
   "metadata": {},
   "outputs": [],
   "source": [
    "class VehicleDynamics(DynamicsBase):\n",
    "    \n",
    "    def __init__(self, sample_time, init_condition):\n",
    "        DynamicsBase.__init__(self)\n",
    "        self.__state = SysState(n_entries=5)\n",
    "        self.__state.add_state(\"x\", 0)\n",
    "        self.__state.add_state(\"v\", 1) #= 5\n",
    "        self.__state.add_state(\"a\", 2) #= 0\n",
    "        self.__state.add_state(\"w_e\",3) #= 100\n",
    "        self.__state.add_state(\"w_e_dot\",4)  #= 0)\n",
    "        \n",
    "        # integrator for the velocity\n",
    "        self.set_integrator(\"velocity\", integrator=ODEScalarFWDEuler(init_condition=init_condition,step_size=sample_time))\n",
    "    \n",
    "    @property\n",
    "    def state(self):\n",
    "        return self.__state\n",
    "\n",
    "    @state.setter\n",
    "    def state(self, value):\n",
    "        self.__state = value\n",
    "        \n",
    "    def execute(self, **kwargs):\n",
    "        v_new = self.get_integrator(\"velocity\").execute(**kwargs)\n",
    "        self.__state.set_state_value_by_name(name=\"v\", value=v_new )\n",
    "        \n",
    "        "
   ]
  },
  {
   "cell_type": "code",
   "execution_count": 36,
   "metadata": {},
   "outputs": [],
   "source": [
    "class Vehicle(VehicleBase):\n",
    "    \n",
    "    def __init__(self, properties, sample_time, init_condition):\n",
    "        VehicleBase.__init__(self, properties)\n",
    "        self.__dynamics = VehicleDynamics(sample_time=sample_time, init_condition=init_condition)\n",
    "        \n",
    "    @property\n",
    "    def state(self):\n",
    "        return self.__dynamics.state\n",
    "\n",
    "    @state.setter\n",
    "    def state(self, value):\n",
    "        self.__dynamics.state = value\n",
    "\n",
    "    def get_old_state(self, name, idx):\n",
    "        return self.__dynamics.get_old_state(name=name, idx=idx)\n",
    "\n",
    "    def set_old_state(self, name, idx, value):\n",
    "        self.__dynamics.set_old_state(name=name, idx=idx, value=value)\n",
    "        \n",
    "    def __get_f_load(self, **kwars):\n",
    "        \n",
    "        v = self.get_old_state(name=\"velocity\", idx=0)\n",
    "        F_aero = self.get_property(\"c_a\")*v**2\n",
    "        R_x = self.get_property(\"c_r1\")*v\n",
    "        F_g = self.get_property(\"m\")*Physics.gravity_constant()*math.sin(kwargs['alpha'])\n",
    "        return F_aero + R_x + F_g\n",
    "    \n",
    "    def __get_f_x(**kwargs):\n",
    "        \n",
    "        w_e = self.get_properties(\"w_e\").state\n",
    "        w_w = self.get_property(\"GR\")*w_e\n",
    "        v = self.get_old_state(name=\"velocity\", idx=0)\n",
    "        s = (w_w*self.get_property(\"r_e\") - v)/v\n",
    "        \n",
    "        if math.fabs(s) < 1:\n",
    "            return self.get_property(\"c\")*s\n",
    "        \n",
    "        return self.get_property(\"F_max\")\n",
    "        \n",
    "    def __compute_rhs(self, **kwargs):\n",
    "        return __get_f_x(**kwargs) - __get_f_load(**kwargs)\n",
    "        \n",
    "    def execute(self, **kwargs):\n",
    "        \n",
    "        F_load = self.__get_f_load(**kwargs)\n",
    "        kwargs['F_load'] = F_load\n",
    "        kwargs['GR'] = self.get_property(\"GR\")\n",
    "        kwargs['r_e'] = self.get_property(\"r_e\")\n",
    "        self.get_property(\"propulsion\").execute(**kwargs)\n",
    "        kwargs['f'] = self.__compute_rhs\n",
    "        self.__dynamics.execute(**kwargs)\n",
    "        \n",
    "        \n",
    "    "
   ]
  },
  {
   "cell_type": "code",
   "execution_count": 37,
   "metadata": {},
   "outputs": [
    {
     "name": "stdout",
     "output_type": "stream",
     "text": [
      "At time: 0.000000\n"
     ]
    },
    {
     "ename": "KeyError",
     "evalue": "'J_e'",
     "output_type": "error",
     "traceback": [
      "\u001b[0;31m---------------------------------------------------------------------------\u001b[0m",
      "\u001b[0;31mKeyError\u001b[0m                                  Traceback (most recent call last)",
      "\u001b[0;32m<ipython-input-37-ff58412387dd>\u001b[0m in \u001b[0;36m<module>\u001b[0;34m()\u001b[0m\n\u001b[1;32m     51\u001b[0m \u001b[0;34m\u001b[0m\u001b[0m\n\u001b[1;32m     52\u001b[0m     \u001b[0;31m#v_data[i] = model.v\u001b[0m\u001b[0;34m\u001b[0m\u001b[0;34m\u001b[0m\u001b[0;34m\u001b[0m\u001b[0m\n\u001b[0;32m---> 53\u001b[0;31m     \u001b[0mmodel\u001b[0m\u001b[0;34m.\u001b[0m\u001b[0mexecute\u001b[0m\u001b[0;34m(\u001b[0m\u001b[0;34m**\u001b[0m\u001b[0mkwargs\u001b[0m\u001b[0;34m)\u001b[0m\u001b[0;34m\u001b[0m\u001b[0;34m\u001b[0m\u001b[0m\n\u001b[0m\u001b[1;32m     54\u001b[0m \u001b[0;34m\u001b[0m\u001b[0m\n\u001b[1;32m     55\u001b[0m     \u001b[0mtime\u001b[0m \u001b[0;34m+=\u001b[0m \u001b[0msample_time\u001b[0m\u001b[0;34m\u001b[0m\u001b[0;34m\u001b[0m\u001b[0m\n",
      "\u001b[0;32m<ipython-input-36-8e7a122f33f8>\u001b[0m in \u001b[0;36mexecute\u001b[0;34m(self, **kwargs)\u001b[0m\n\u001b[1;32m     48\u001b[0m         \u001b[0mkwargs\u001b[0m\u001b[0;34m[\u001b[0m\u001b[0;34m'GR'\u001b[0m\u001b[0;34m]\u001b[0m \u001b[0;34m=\u001b[0m \u001b[0mself\u001b[0m\u001b[0;34m.\u001b[0m\u001b[0mget_property\u001b[0m\u001b[0;34m(\u001b[0m\u001b[0;34m\"GR\"\u001b[0m\u001b[0;34m)\u001b[0m\u001b[0;34m\u001b[0m\u001b[0;34m\u001b[0m\u001b[0m\n\u001b[1;32m     49\u001b[0m         \u001b[0mkwargs\u001b[0m\u001b[0;34m[\u001b[0m\u001b[0;34m'r_e'\u001b[0m\u001b[0;34m]\u001b[0m \u001b[0;34m=\u001b[0m \u001b[0mself\u001b[0m\u001b[0;34m.\u001b[0m\u001b[0mget_property\u001b[0m\u001b[0;34m(\u001b[0m\u001b[0;34m\"r_e\"\u001b[0m\u001b[0;34m)\u001b[0m\u001b[0;34m\u001b[0m\u001b[0;34m\u001b[0m\u001b[0m\n\u001b[0;32m---> 50\u001b[0;31m         \u001b[0mself\u001b[0m\u001b[0;34m.\u001b[0m\u001b[0mget_property\u001b[0m\u001b[0;34m(\u001b[0m\u001b[0;34m\"propulsion\"\u001b[0m\u001b[0;34m)\u001b[0m\u001b[0;34m.\u001b[0m\u001b[0mexecute\u001b[0m\u001b[0;34m(\u001b[0m\u001b[0;34m**\u001b[0m\u001b[0mkwargs\u001b[0m\u001b[0;34m)\u001b[0m\u001b[0;34m\u001b[0m\u001b[0;34m\u001b[0m\u001b[0m\n\u001b[0m\u001b[1;32m     51\u001b[0m         \u001b[0mkwargs\u001b[0m\u001b[0;34m[\u001b[0m\u001b[0;34m'f'\u001b[0m\u001b[0;34m]\u001b[0m \u001b[0;34m=\u001b[0m \u001b[0mself\u001b[0m\u001b[0;34m.\u001b[0m\u001b[0m__compute_rhs\u001b[0m\u001b[0;34m\u001b[0m\u001b[0;34m\u001b[0m\u001b[0m\n\u001b[1;32m     52\u001b[0m         \u001b[0mself\u001b[0m\u001b[0;34m.\u001b[0m\u001b[0m__dynamics\u001b[0m\u001b[0;34m.\u001b[0m\u001b[0mexecute\u001b[0m\u001b[0;34m(\u001b[0m\u001b[0;34m**\u001b[0m\u001b[0mkwargs\u001b[0m\u001b[0;34m)\u001b[0m\u001b[0;34m\u001b[0m\u001b[0;34m\u001b[0m\u001b[0m\n",
      "\u001b[0;32m<ipython-input-34-51966a722e8e>\u001b[0m in \u001b[0;36mexecute\u001b[0;34m(self, **kwargs)\u001b[0m\n\u001b[1;32m     34\u001b[0m         \"\"\"\n\u001b[1;32m     35\u001b[0m         \u001b[0mkwargs\u001b[0m\u001b[0;34m[\u001b[0m\u001b[0;34m'f'\u001b[0m\u001b[0;34m]\u001b[0m \u001b[0;34m=\u001b[0m \u001b[0mself\u001b[0m\u001b[0;34m.\u001b[0m\u001b[0m__compute_rhs\u001b[0m\u001b[0;34m\u001b[0m\u001b[0;34m\u001b[0m\u001b[0m\n\u001b[0;32m---> 36\u001b[0;31m         \u001b[0mself\u001b[0m\u001b[0;34m.\u001b[0m\u001b[0m__state\u001b[0m \u001b[0;34m=\u001b[0m \u001b[0mself\u001b[0m\u001b[0;34m.\u001b[0m\u001b[0mget_integrator\u001b[0m\u001b[0;34m(\u001b[0m\u001b[0;34m\"w_e\"\u001b[0m\u001b[0;34m)\u001b[0m\u001b[0;34m.\u001b[0m\u001b[0mexecute\u001b[0m\u001b[0;34m(\u001b[0m\u001b[0;34m**\u001b[0m\u001b[0mkwargs\u001b[0m\u001b[0;34m)\u001b[0m\u001b[0;34m\u001b[0m\u001b[0;34m\u001b[0m\u001b[0m\n\u001b[0m\u001b[1;32m     37\u001b[0m \u001b[0;34m\u001b[0m\u001b[0m\n\u001b[1;32m     38\u001b[0m \u001b[0;34m\u001b[0m\u001b[0m\n",
      "\u001b[0;32m~/MyCourses/autonomous_vehicles/simulator/ode_integrators/forward_euler.py\u001b[0m in \u001b[0;36mexecute\u001b[0;34m(self, **kwargs)\u001b[0m\n\u001b[1;32m     25\u001b[0m         \u001b[0mf\u001b[0m \u001b[0;34m=\u001b[0m \u001b[0mkwargs\u001b[0m\u001b[0;34m[\u001b[0m\u001b[0;34m'f'\u001b[0m\u001b[0;34m]\u001b[0m\u001b[0;34m\u001b[0m\u001b[0;34m\u001b[0m\u001b[0m\n\u001b[1;32m     26\u001b[0m         \u001b[0myn\u001b[0m \u001b[0;34m=\u001b[0m \u001b[0mself\u001b[0m\u001b[0;34m.\u001b[0m\u001b[0mget_history\u001b[0m\u001b[0;34m(\u001b[0m\u001b[0;36m0\u001b[0m\u001b[0;34m)\u001b[0m\u001b[0;34m\u001b[0m\u001b[0;34m\u001b[0m\u001b[0m\n\u001b[0;32m---> 27\u001b[0;31m         \u001b[0mnew\u001b[0m \u001b[0;34m=\u001b[0m \u001b[0myn\u001b[0m \u001b[0;34m+\u001b[0m \u001b[0mself\u001b[0m\u001b[0;34m.\u001b[0m\u001b[0mstep_size\u001b[0m\u001b[0;34m*\u001b[0m\u001b[0mf\u001b[0m\u001b[0;34m(\u001b[0m\u001b[0;34m**\u001b[0m\u001b[0mkwargs\u001b[0m\u001b[0;34m)\u001b[0m\u001b[0;34m\u001b[0m\u001b[0;34m\u001b[0m\u001b[0m\n\u001b[0m\u001b[1;32m     28\u001b[0m         \u001b[0myn\u001b[0m \u001b[0;34m=\u001b[0m \u001b[0mnew\u001b[0m\u001b[0;34m\u001b[0m\u001b[0;34m\u001b[0m\u001b[0m\n\u001b[1;32m     29\u001b[0m         \u001b[0mself\u001b[0m\u001b[0;34m.\u001b[0m\u001b[0mupdate_history\u001b[0m\u001b[0;34m(\u001b[0m\u001b[0;36m0\u001b[0m\u001b[0;34m,\u001b[0m \u001b[0myn\u001b[0m\u001b[0;34m)\u001b[0m\u001b[0;34m\u001b[0m\u001b[0;34m\u001b[0m\u001b[0m\n",
      "\u001b[0;32m<ipython-input-34-51966a722e8e>\u001b[0m in \u001b[0;36m__compute_rhs\u001b[0;34m(self, **kwargs)\u001b[0m\n\u001b[1;32m     19\u001b[0m         \u001b[0mr_eff\u001b[0m \u001b[0;34m=\u001b[0m \u001b[0mkwargs\u001b[0m\u001b[0;34m[\u001b[0m\u001b[0;34m'r_e'\u001b[0m\u001b[0;34m]\u001b[0m\u001b[0;34m\u001b[0m\u001b[0;34m\u001b[0m\u001b[0m\n\u001b[1;32m     20\u001b[0m         \u001b[0mF_load\u001b[0m \u001b[0;34m=\u001b[0m \u001b[0mkwargs\u001b[0m\u001b[0;34m[\u001b[0m\u001b[0;34m'F_load'\u001b[0m\u001b[0;34m]\u001b[0m\u001b[0;34m\u001b[0m\u001b[0;34m\u001b[0m\u001b[0m\n\u001b[0;32m---> 21\u001b[0;31m         \u001b[0;32mreturn\u001b[0m \u001b[0;34m(\u001b[0m\u001b[0mT_e\u001b[0m \u001b[0;34m-\u001b[0m \u001b[0mGR\u001b[0m\u001b[0;34m*\u001b[0m\u001b[0mr_eff\u001b[0m\u001b[0;34m*\u001b[0m\u001b[0mF_load\u001b[0m\u001b[0;34m)\u001b[0m\u001b[0;34m/\u001b[0m\u001b[0mkwargs\u001b[0m\u001b[0;34m[\u001b[0m\u001b[0;34m'J_e'\u001b[0m\u001b[0;34m]\u001b[0m\u001b[0;34m\u001b[0m\u001b[0;34m\u001b[0m\u001b[0m\n\u001b[0m\u001b[1;32m     22\u001b[0m \u001b[0;34m\u001b[0m\u001b[0m\n\u001b[1;32m     23\u001b[0m     \u001b[0;34m@\u001b[0m\u001b[0mproperty\u001b[0m\u001b[0;34m\u001b[0m\u001b[0;34m\u001b[0m\u001b[0m\n",
      "\u001b[0;31mKeyError\u001b[0m: 'J_e'"
     ]
    }
   ],
   "source": [
    "### SIMULATION DRIVER\n",
    "\n",
    "sample_time = 0.01\n",
    "time_end = 100\n",
    "\n",
    "t_data = np.arange(0,time_end,sample_time)\n",
    "v_data = np.zeros_like(t_data)\n",
    "\n",
    "\n",
    "engine_properties = {\"a_0\": 400, \n",
    "                     \"a_1\": 0.1, \n",
    "                     \"a_2\": -0.0002,\n",
    "                     \"J_e\":10, \n",
    "                     \"x_theta\":1.0}\n",
    "\n",
    "init_engine_speed = 100.0 #rad/s\n",
    "propulsion = EngineDynamics(properties=engine_properties, \n",
    "                            sample_time=sample_time, \n",
    "                            init_condition=init_engine_speed)\n",
    "\n",
    "# Gear ratio, effective radius, mass + inertia\n",
    "vehicle_properties = {\"GR\":0.35, \n",
    "                      \"r_e\":0.3, \n",
    "                      \"J_e\":10, \n",
    "                      \"m\": 2000, \n",
    "                      \"c_a\":1.36, \n",
    "                      \"c_r1\":0.01, \n",
    "                      \"c\":10000, \n",
    "                      \"F_max\": 10000, \n",
    "                      \"propulsion\": propulsion}\n",
    "\n",
    "init_velocity = 5.0 #m/s\n",
    "model = Vehicle(properties=vehicle_properties, \n",
    "                sample_time=sample_time, \n",
    "                init_condition=init_velocity)\n",
    "\n",
    "\n",
    "# throttle percentage between 0 and 1\n",
    "throttle = 0.2\n",
    "\n",
    "# incline angle (in radians)\n",
    "alpha = 0\n",
    "\n",
    "kwargs = {\"throttle\":0.2, \"alpha\": 0.0}\n",
    "\n",
    "\n",
    "# the simulation time\n",
    "time = 0.0\n",
    "for i in range(t_data.shape[0]):\n",
    "    \n",
    "    print(\"At time: %f\"%time)\n",
    "    \n",
    "    #v_data[i] = model.v\n",
    "    model.execute(**kwargs)\n",
    "    \n",
    "    time += sample_time\n",
    "    \n",
    "plt.plot(t_data, v_data)\n",
    "plt.show()"
   ]
  },
  {
   "cell_type": "code",
   "execution_count": null,
   "metadata": {},
   "outputs": [],
   "source": []
  },
  {
   "cell_type": "code",
   "execution_count": null,
   "metadata": {},
   "outputs": [],
   "source": []
  }
 ],
 "metadata": {
  "kernelspec": {
   "display_name": "Python 3",
   "language": "python",
   "name": "python3"
  },
  "language_info": {
   "codemirror_mode": {
    "name": "ipython",
    "version": 3
   },
   "file_extension": ".py",
   "mimetype": "text/x-python",
   "name": "python",
   "nbconvert_exporter": "python",
   "pygments_lexer": "ipython3",
   "version": "3.6.7"
  }
 },
 "nbformat": 4,
 "nbformat_minor": 1
}
